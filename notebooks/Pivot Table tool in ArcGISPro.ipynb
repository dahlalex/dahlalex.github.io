{
 "cells": [
  {
   "cell_type": "markdown",
   "id": "fcd802dc-ed18-46c4-b03b-bbc7cd3e5f0b",
   "metadata": {},
   "source": [
    "## Pivot Table tool in ArcGISPro\n",
    "\n",
    "### Data: [EsriTrainingSvc](https://www.arcgis.com/home/item.html?id=f4b8eccbf7934c4fade38b80c5708817&rsource=https%3A%2F%2Flinks.esri.com%2FSec1MakeAMap) \n",
    "\n",
    "### The goal is to symbolize the variety of institutions in each county in the state of Massachusetts using pie charts."
   ]
  },
  {
   "cell_type": "markdown",
   "id": "60394b26-c9ab-4c1f-b54b-caf0f1a530f5",
   "metadata": {},
   "source": [
    "## 1- Add a new field to \"Institutions_MA\" "
   ]
  },
  {
   "cell_type": "markdown",
   "id": "19ca007d-ff66-49a6-b432-fc410ce28845",
   "metadata": {},
   "source": [
    "#### By adding a new field we will be able to count how many FEATTYPE (institution types) are in each county. \n",
    "\n",
    "#### The name of the new field is \"FIPSFEATTYPE\"\n",
    "\n",
    "\n"
   ]
  },
  {
   "cell_type": "markdown",
   "id": "2123e5bd-1bae-4256-8c0c-c4b0ddfb333b",
   "metadata": {},
   "source": [
    "[](img/b1.png)"
   ]
  },
  {
   "cell_type": "markdown",
   "id": "5b80070d-0572-4fa8-8b0d-03274e9f2ea8",
   "metadata": {},
   "source": [
    "![](img/b1.png)"
   ]
  },
  {
   "cell_type": "markdown",
   "id": "cf63b9aa-fba0-4ace-b1ba-8b560c933c5b",
   "metadata": {},
   "source": [
    "## 2- Calculate Field "
   ]
  },
  {
   "cell_type": "markdown",
   "id": "1daef0e1-d16e-4549-8b50-b76dd1d3a547",
   "metadata": {},
   "source": [
    "### Right-click on FIPSFEATTYPE > Calculate Field to concatenate these two fields: \n",
    "\n",
    "#### FIPSFEATTYPE = !STCYFIPS! + !FEATTYPE \n",
    "\n",
    "#### (Using Expression Type = Python 3)"
   ]
  },
  {
   "cell_type": "markdown",
   "id": "821591cb-e4a2-43d2-a410-10b9ab046439",
   "metadata": {},
   "source": [
    "![](img/b2.png)"
   ]
  },
  {
   "cell_type": "markdown",
   "id": "d8125fb7-3ac8-4ba3-a78c-88ce483e72f2",
   "metadata": {},
   "source": [
    "## 3- Summarize "
   ]
  },
  {
   "cell_type": "markdown",
   "id": "c326b6c5-88da-468b-920f-f1d6df2e2e6f",
   "metadata": {},
   "source": [
    "### Summarize on the FIPSFEATTYPE field (right-click field header > Summarize) to create a summary table (default name of \n",
    "\n",
    "### Institutions_MA_Statistics).  For Statistics Fields, supply STCTYFIPS and FEATTYPE.  Statistic Type of Maximum is fine.  Run it."
   ]
  },
  {
   "cell_type": "markdown",
   "id": "e051bffd-7afd-4fd0-ab41-253e6794881d",
   "metadata": {},
   "source": [
    "#### As a result we will get a new table"
   ]
  },
  {
   "cell_type": "markdown",
   "id": "fc582671-debf-494b-b2ec-51245fcab5c5",
   "metadata": {},
   "source": [
    "![](img/b3.png)"
   ]
  },
  {
   "cell_type": "markdown",
   "id": "8b45ae1a-b132-46b4-9ab6-b03ae2ad9ddd",
   "metadata": {},
   "source": [
    "![](img/b4.png)"
   ]
  },
  {
   "cell_type": "markdown",
   "id": "65c0b856-6725-483f-a0df-a8cca65becff",
   "metadata": {},
   "source": [
    "## 4- Pivot Table geoprocessing tool"
   ]
  },
  {
   "cell_type": "markdown",
   "id": "4e97eb99-0e46-4a20-b452-8a805dd006f6",
   "metadata": {},
   "source": [
    "### Use the Pivot Table geoprocessing tool:  Input Table = Institutions_MA_Statistics.  Input Field = MAX_STCTYFIPS.\n",
    "\n",
    "### Pivot Field = MAX_FEATTYPE.  Value Field = FREQUENCY.  Output Table = Institutions_MA_Statistics_P (default)"
   ]
  },
  {
   "cell_type": "markdown",
   "id": "d5fc5130-bddf-437c-82a6-c4efd6c47833",
   "metadata": {},
   "source": [
    "![](img/b5.png)"
   ]
  },
  {
   "cell_type": "markdown",
   "id": "84fb1a8a-6a01-4317-ba65-9925401d8025",
   "metadata": {},
   "source": [
    "![](img/b6.png)"
   ]
  },
  {
   "cell_type": "markdown",
   "id": "4fff215a-4175-465c-b86c-53f88fdb5874",
   "metadata": {},
   "source": [
    "## 4- Join pivot table to the counties layer"
   ]
  },
  {
   "cell_type": "markdown",
   "id": "10752fdb-5d39-4248-8097-c72507be1d16",
   "metadata": {},
   "source": [
    "### Join  pivot table (Institutions_MA_Statistics_P) to the counties layer:  \n",
    "\n",
    "### Input Table = Counties_northeast. Input Join Field = FIPS. \n",
    "\n",
    "### Join Table = Institutions_MA_Statistics_P.  Join Table Field = MAX_STCTYFIPS. \n",
    "\n",
    "### Keep All Target Features = True"
   ]
  },
  {
   "cell_type": "markdown",
   "id": "e5c5df2b-6904-4d9b-8d4c-edd5dbcc29fd",
   "metadata": {},
   "source": [
    "![](img/b7.png)"
   ]
  },
  {
   "cell_type": "markdown",
   "id": "806c80ff-c500-415a-bb47-c9935ff3a258",
   "metadata": {},
   "source": [
    "## 5- Symbolize pie charts"
   ]
  },
  {
   "cell_type": "markdown",
   "id": "da213646-103b-4d02-9319-0ec91dffc032",
   "metadata": {},
   "source": [
    "![](img/b8.png)"
   ]
  },
  {
   "cell_type": "code",
   "execution_count": null,
   "id": "a8b2114e-e220-4e1b-b1b1-c2c64a91449a",
   "metadata": {},
   "outputs": [],
   "source": []
  }
 ],
 "metadata": {
  "kernelspec": {
   "display_name": "Python 3 (ipykernel)",
   "language": "python",
   "name": "python3"
  },
  "language_info": {
   "codemirror_mode": {
    "name": "ipython",
    "version": 3
   },
   "file_extension": ".py",
   "mimetype": "text/x-python",
   "name": "python",
   "nbconvert_exporter": "python",
   "pygments_lexer": "ipython3",
   "version": "3.8.12"
  }
 },
 "nbformat": 4,
 "nbformat_minor": 5
}
