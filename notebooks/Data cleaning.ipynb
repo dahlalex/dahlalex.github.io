{
 "cells": [
  {
   "cell_type": "markdown",
   "id": "bb379f2e-01b7-46bc-91c8-f69320d48de8",
   "metadata": {},
   "source": [
    "# Data Cleaning\n",
    "\n",
    "### Sources: [Automating GIS-processes 2021](https://autogis-site.readthedocs.io/en/latest/lessons/L4/overview.html) and [leafmap](https://leafmap.org/notebooks/26_kepler_gl/)\n",
    "\n",
    "### Data available [here](https://github.com/dahlalex/website/tree/main/notebooks)\n",
    "\n",
    "### The goal is to create boundaries of Finnish hospital districts."
   ]
  },
  {
   "cell_type": "code",
   "execution_count": 1,
   "id": "65aa192f-ea57-4142-9df4-ef3ff1e438eb",
   "metadata": {},
   "outputs": [],
   "source": [
    "import geopandas as gpd\n",
    "import pandas as pd\n",
    "import matplotlib.pyplot as plt\n",
    "import json\n",
    "import numpy as np\n",
    "%matplotlib inline"
   ]
  },
  {
   "cell_type": "markdown",
   "id": "e3979821-2a37-447c-b1ee-2b8162894045",
   "metadata": {},
   "source": [
    "## 1- Get and fix the data for municipalities "
   ]
  },
  {
   "cell_type": "code",
   "execution_count": 2,
   "id": "35fb1e34-11ba-49e1-86ff-28d8fdc9bae0",
   "metadata": {},
   "outputs": [],
   "source": [
    "# Municipality polygons (wfs)\n",
    "\n",
    "url = \"http://geo.stat.fi/geoserver/tilastointialueet/wfs?request=GetFeature&typename=tilastointialueet:kunta1000k&outputformat=JSON\"\n",
    "geodata = gpd.read_file(url)"
   ]
  },
  {
   "cell_type": "code",
   "execution_count": 3,
   "id": "6d48f475-c87f-4920-8359-acb910b39c6d",
   "metadata": {},
   "outputs": [
    {
     "data": {
      "text/html": [
       "<div>\n",
       "<style scoped>\n",
       "    .dataframe tbody tr th:only-of-type {\n",
       "        vertical-align: middle;\n",
       "    }\n",
       "\n",
       "    .dataframe tbody tr th {\n",
       "        vertical-align: top;\n",
       "    }\n",
       "\n",
       "    .dataframe thead th {\n",
       "        text-align: right;\n",
       "    }\n",
       "</style>\n",
       "<table border=\"1\" class=\"dataframe\">\n",
       "  <thead>\n",
       "    <tr style=\"text-align: right;\">\n",
       "      <th></th>\n",
       "      <th>id</th>\n",
       "      <th>kunta</th>\n",
       "      <th>vuosi</th>\n",
       "      <th>nimi</th>\n",
       "      <th>namn</th>\n",
       "      <th>name</th>\n",
       "      <th>geometry</th>\n",
       "    </tr>\n",
       "  </thead>\n",
       "  <tbody>\n",
       "    <tr>\n",
       "      <th>0</th>\n",
       "      <td>kunta1000k.1</td>\n",
       "      <td>005</td>\n",
       "      <td>2022</td>\n",
       "      <td>Alajärvi</td>\n",
       "      <td>Alajärvi</td>\n",
       "      <td>Alajärvi</td>\n",
       "      <td>POLYGON ((366787.924 7001300.583, 364487.590 6...</td>\n",
       "    </tr>\n",
       "    <tr>\n",
       "      <th>1</th>\n",
       "      <td>kunta1000k.2</td>\n",
       "      <td>009</td>\n",
       "      <td>2022</td>\n",
       "      <td>Alavieska</td>\n",
       "      <td>Alavieska</td>\n",
       "      <td>Alavieska</td>\n",
       "      <td>POLYGON ((382543.364 7120022.976, 382899.505 7...</td>\n",
       "    </tr>\n",
       "    <tr>\n",
       "      <th>2</th>\n",
       "      <td>kunta1000k.3</td>\n",
       "      <td>010</td>\n",
       "      <td>2022</td>\n",
       "      <td>Alavus</td>\n",
       "      <td>Alavo</td>\n",
       "      <td>Alavus</td>\n",
       "      <td>POLYGON ((343298.204 6961570.195, 343831.847 6...</td>\n",
       "    </tr>\n",
       "    <tr>\n",
       "      <th>3</th>\n",
       "      <td>kunta1000k.4</td>\n",
       "      <td>016</td>\n",
       "      <td>2022</td>\n",
       "      <td>Asikkala</td>\n",
       "      <td>Asikkala</td>\n",
       "      <td>Asikkala</td>\n",
       "      <td>POLYGON ((436139.680 6798279.085, 435714.468 6...</td>\n",
       "    </tr>\n",
       "    <tr>\n",
       "      <th>4</th>\n",
       "      <td>kunta1000k.5</td>\n",
       "      <td>018</td>\n",
       "      <td>2022</td>\n",
       "      <td>Askola</td>\n",
       "      <td>Askola</td>\n",
       "      <td>Askola</td>\n",
       "      <td>POLYGON ((426631.036 6720528.076, 428821.749 6...</td>\n",
       "    </tr>\n",
       "  </tbody>\n",
       "</table>\n",
       "</div>"
      ],
      "text/plain": [
       "             id kunta  vuosi       nimi       namn       name  \\\n",
       "0  kunta1000k.1   005   2022   Alajärvi   Alajärvi   Alajärvi   \n",
       "1  kunta1000k.2   009   2022  Alavieska  Alavieska  Alavieska   \n",
       "2  kunta1000k.3   010   2022     Alavus      Alavo     Alavus   \n",
       "3  kunta1000k.4   016   2022   Asikkala   Asikkala   Asikkala   \n",
       "4  kunta1000k.5   018   2022     Askola     Askola     Askola   \n",
       "\n",
       "                                            geometry  \n",
       "0  POLYGON ((366787.924 7001300.583, 364487.590 6...  \n",
       "1  POLYGON ((382543.364 7120022.976, 382899.505 7...  \n",
       "2  POLYGON ((343298.204 6961570.195, 343831.847 6...  \n",
       "3  POLYGON ((436139.680 6798279.085, 435714.468 6...  \n",
       "4  POLYGON ((426631.036 6720528.076, 428821.749 6...  "
      ]
     },
     "execution_count": 3,
     "metadata": {},
     "output_type": "execute_result"
    }
   ],
   "source": [
    "geodata.head()"
   ]
  },
  {
   "cell_type": "code",
   "execution_count": 4,
   "id": "d696c04c-814b-41c3-9efb-8bfc2caeee0a",
   "metadata": {},
   "outputs": [
    {
     "data": {
      "text/plain": [
       "(309, 7)"
      ]
     },
     "execution_count": 4,
     "metadata": {},
     "output_type": "execute_result"
    }
   ],
   "source": [
    "geodata.shape # there are 310 municipalities in Finland in 2020. The municipality of (Åland) is missing here."
   ]
  },
  {
   "cell_type": "code",
   "execution_count": 5,
   "id": "e48554f3-21bb-4263-8531-c0474ad2571c",
   "metadata": {},
   "outputs": [
    {
     "data": {
      "text/html": [
       "<div>\n",
       "<style scoped>\n",
       "    .dataframe tbody tr th:only-of-type {\n",
       "        vertical-align: middle;\n",
       "    }\n",
       "\n",
       "    .dataframe tbody tr th {\n",
       "        vertical-align: top;\n",
       "    }\n",
       "\n",
       "    .dataframe thead th {\n",
       "        text-align: right;\n",
       "    }\n",
       "</style>\n",
       "<table border=\"1\" class=\"dataframe\">\n",
       "  <thead>\n",
       "    <tr style=\"text-align: right;\">\n",
       "      <th></th>\n",
       "      <th>code</th>\n",
       "      <th>name</th>\n",
       "      <th>geometry</th>\n",
       "    </tr>\n",
       "  </thead>\n",
       "  <tbody>\n",
       "    <tr>\n",
       "      <th>0</th>\n",
       "      <td>005</td>\n",
       "      <td>Alajärvi</td>\n",
       "      <td>POLYGON ((366787.924 7001300.583, 364487.590 6...</td>\n",
       "    </tr>\n",
       "    <tr>\n",
       "      <th>1</th>\n",
       "      <td>009</td>\n",
       "      <td>Alavieska</td>\n",
       "      <td>POLYGON ((382543.364 7120022.976, 382899.505 7...</td>\n",
       "    </tr>\n",
       "    <tr>\n",
       "      <th>2</th>\n",
       "      <td>010</td>\n",
       "      <td>Alavus</td>\n",
       "      <td>POLYGON ((343298.204 6961570.195, 343831.847 6...</td>\n",
       "    </tr>\n",
       "    <tr>\n",
       "      <th>3</th>\n",
       "      <td>016</td>\n",
       "      <td>Asikkala</td>\n",
       "      <td>POLYGON ((436139.680 6798279.085, 435714.468 6...</td>\n",
       "    </tr>\n",
       "    <tr>\n",
       "      <th>4</th>\n",
       "      <td>018</td>\n",
       "      <td>Askola</td>\n",
       "      <td>POLYGON ((426631.036 6720528.076, 428821.749 6...</td>\n",
       "    </tr>\n",
       "  </tbody>\n",
       "</table>\n",
       "</div>"
      ],
      "text/plain": [
       "  code       name                                           geometry\n",
       "0  005   Alajärvi  POLYGON ((366787.924 7001300.583, 364487.590 6...\n",
       "1  009  Alavieska  POLYGON ((382543.364 7120022.976, 382899.505 7...\n",
       "2  010     Alavus  POLYGON ((343298.204 6961570.195, 343831.847 6...\n",
       "3  016   Asikkala  POLYGON ((436139.680 6798279.085, 435714.468 6...\n",
       "4  018     Askola  POLYGON ((426631.036 6720528.076, 428821.749 6..."
      ]
     },
     "execution_count": 5,
     "metadata": {},
     "output_type": "execute_result"
    }
   ],
   "source": [
    "#Select and rename columns\n",
    "geodata.rename(columns={\"kunta\": \"code\"}, inplace=True)\n",
    "\n",
    "geodata = geodata[[\"code\", \"name\", \"geometry\"]]\n",
    "\n",
    "geodata.head()\n"
   ]
  },
  {
   "cell_type": "code",
   "execution_count": 6,
   "id": "6732fd2f-fb29-4e90-b86c-30b28035ae00",
   "metadata": {},
   "outputs": [
    {
     "data": {
      "text/plain": [
       "<AxesSubplot:>"
      ]
     },
     "execution_count": 6,
     "metadata": {},
     "output_type": "execute_result"
    },
    {
     "data": {
      "image/png": "[encoded data removed]",
      "text/plain": [
       "<Figure size 432x288 with 1 Axes>"
      ]
     },
     "metadata": {
      "needs_background": "light"
     },
     "output_type": "display_data"
    }
   ],
   "source": [
    "geodata.plot()"
   ]
  },
  {
   "cell_type": "markdown",
   "id": "38eec576-23a0-4c58-8e44-39eabc655a9a",
   "metadata": {},
   "source": [
    "## 2- Get and fix the data for the health care districts"
   ]
  },
  {
   "cell_type": "code",
   "execution_count": 7,
   "id": "7bf7eb88-f057-498f-a954-3fe6cacbbb46",
   "metadata": {},
   "outputs": [],
   "source": [
    "# Read in the excel spreadsheet. The excel package should be installed (conda install -c conda-forge xlrd).\n",
    "# the header is located on the 4th row (index 3) of the excel spreadsheet.\n",
    "\n",
    "data = pd.read_excel(r\"data/Shp_jäsenkunnat_2020.xls\", sheet_name=\"kunnat_shp_2020_ aakkosjärj.\", header=3)"
   ]
  },
  {
   "cell_type": "code",
   "execution_count": 8,
   "id": "91a837df-b48e-43a5-b4f5-cfd835f7bc0d",
   "metadata": {},
   "outputs": [
    {
     "data": {
      "text/html": [
       "<div>\n",
       "<style scoped>\n",
       "    .dataframe tbody tr th:only-of-type {\n",
       "        vertical-align: middle;\n",
       "    }\n",
       "\n",
       "    .dataframe tbody tr th {\n",
       "        vertical-align: top;\n",
       "    }\n",
       "\n",
       "    .dataframe thead th {\n",
       "        text-align: right;\n",
       "    }\n",
       "</style>\n",
       "<table border=\"1\" class=\"dataframe\">\n",
       "  <thead>\n",
       "    <tr style=\"text-align: right;\">\n",
       "      <th></th>\n",
       "      <th>kunta-\\nkoodi</th>\n",
       "      <th>kunta</th>\n",
       "      <th>shp:n koodi</th>\n",
       "      <th>sairaanhoitopiiri</th>\n",
       "      <th>erva-alue</th>\n",
       "      <th>kuntien lkm</th>\n",
       "    </tr>\n",
       "  </thead>\n",
       "  <tbody>\n",
       "    <tr>\n",
       "      <th>0</th>\n",
       "      <td>NaN</td>\n",
       "      <td>NaN</td>\n",
       "      <td>NaN</td>\n",
       "      <td>NaN</td>\n",
       "      <td>NaN</td>\n",
       "      <td>NaN</td>\n",
       "    </tr>\n",
       "    <tr>\n",
       "      <th>1</th>\n",
       "      <td>20.0</td>\n",
       "      <td>Akaa</td>\n",
       "      <td>6.0</td>\n",
       "      <td>Pirkanmaa</td>\n",
       "      <td>TAYS</td>\n",
       "      <td>1.0</td>\n",
       "    </tr>\n",
       "    <tr>\n",
       "      <th>2</th>\n",
       "      <td>5.0</td>\n",
       "      <td>Alajärvi</td>\n",
       "      <td>15.0</td>\n",
       "      <td>Etelä-Pohjanmaa</td>\n",
       "      <td>TAYS</td>\n",
       "      <td>2.0</td>\n",
       "    </tr>\n",
       "    <tr>\n",
       "      <th>3</th>\n",
       "      <td>9.0</td>\n",
       "      <td>Alavieska</td>\n",
       "      <td>18.0</td>\n",
       "      <td>Pohjois-Pohjanmaa</td>\n",
       "      <td>OYS</td>\n",
       "      <td>3.0</td>\n",
       "    </tr>\n",
       "    <tr>\n",
       "      <th>4</th>\n",
       "      <td>10.0</td>\n",
       "      <td>Alavus</td>\n",
       "      <td>15.0</td>\n",
       "      <td>Etelä-Pohjanmaa</td>\n",
       "      <td>TAYS</td>\n",
       "      <td>4.0</td>\n",
       "    </tr>\n",
       "  </tbody>\n",
       "</table>\n",
       "</div>"
      ],
      "text/plain": [
       "   kunta-\\nkoodi      kunta  shp:n koodi  sairaanhoitopiiri erva-alue  \\\n",
       "0            NaN        NaN          NaN                NaN       NaN   \n",
       "1           20.0       Akaa          6.0          Pirkanmaa      TAYS   \n",
       "2            5.0   Alajärvi         15.0    Etelä-Pohjanmaa      TAYS   \n",
       "3            9.0  Alavieska         18.0  Pohjois-Pohjanmaa       OYS   \n",
       "4           10.0     Alavus         15.0    Etelä-Pohjanmaa      TAYS   \n",
       "\n",
       "   kuntien lkm  \n",
       "0          NaN  \n",
       "1          1.0  \n",
       "2          2.0  \n",
       "3          3.0  \n",
       "4          4.0  "
      ]
     },
     "execution_count": 8,
     "metadata": {},
     "output_type": "execute_result"
    }
   ],
   "source": [
    "data.head()"
   ]
  },
  {
   "cell_type": "code",
   "execution_count": 9,
   "id": "c563f0ee-c21f-44b1-9ec4-875e826651be",
   "metadata": {},
   "outputs": [
    {
     "data": {
      "text/plain": [
       "(295, 6)"
      ]
     },
     "execution_count": 9,
     "metadata": {},
     "output_type": "execute_result"
    }
   ],
   "source": [
    "data.shape"
   ]
  },
  {
   "cell_type": "code",
   "execution_count": 10,
   "id": "abd18a08-6c78-4e9f-93ce-099ba541fa43",
   "metadata": {},
   "outputs": [],
   "source": [
    "# the first row after the header is empty. We can get rid of it using the dropna() -function:\n",
    "data = data.dropna()"
   ]
  },
  {
   "cell_type": "code",
   "execution_count": 11,
   "id": "1f49f922-7cc1-4ac1-add6-19e0dfbaa13e",
   "metadata": {},
   "outputs": [
    {
     "data": {
      "text/plain": [
       "(294, 6)"
      ]
     },
     "execution_count": 11,
     "metadata": {},
     "output_type": "execute_result"
    }
   ],
   "source": [
    "data.shape"
   ]
  },
  {
   "cell_type": "code",
   "execution_count": 12,
   "id": "6448d3ac-0950-4d14-9459-030802313d96",
   "metadata": {},
   "outputs": [],
   "source": [
    "# Rename and select\n",
    "\n",
    "data.rename(columns={\"kunta-\\nkoodi\":\"code\", \"sairaanhoitopiiri\":\"healthCareDistrict\"}, inplace= True)\n",
    "data= data[[\"code\", \"healthCareDistrict\"]]"
   ]
  },
  {
   "cell_type": "code",
   "execution_count": 13,
   "id": "07ee1af1-11ef-4680-912e-633550dc4486",
   "metadata": {},
   "outputs": [
    {
     "data": {
      "text/html": [
       "<div>\n",
       "<style scoped>\n",
       "    .dataframe tbody tr th:only-of-type {\n",
       "        vertical-align: middle;\n",
       "    }\n",
       "\n",
       "    .dataframe tbody tr th {\n",
       "        vertical-align: top;\n",
       "    }\n",
       "\n",
       "    .dataframe thead th {\n",
       "        text-align: right;\n",
       "    }\n",
       "</style>\n",
       "<table border=\"1\" class=\"dataframe\">\n",
       "  <thead>\n",
       "    <tr style=\"text-align: right;\">\n",
       "      <th></th>\n",
       "      <th>code</th>\n",
       "      <th>healthCareDistrict</th>\n",
       "    </tr>\n",
       "  </thead>\n",
       "  <tbody>\n",
       "    <tr>\n",
       "      <th>1</th>\n",
       "      <td>20.0</td>\n",
       "      <td>Pirkanmaa</td>\n",
       "    </tr>\n",
       "    <tr>\n",
       "      <th>2</th>\n",
       "      <td>5.0</td>\n",
       "      <td>Etelä-Pohjanmaa</td>\n",
       "    </tr>\n",
       "    <tr>\n",
       "      <th>3</th>\n",
       "      <td>9.0</td>\n",
       "      <td>Pohjois-Pohjanmaa</td>\n",
       "    </tr>\n",
       "    <tr>\n",
       "      <th>4</th>\n",
       "      <td>10.0</td>\n",
       "      <td>Etelä-Pohjanmaa</td>\n",
       "    </tr>\n",
       "    <tr>\n",
       "      <th>5</th>\n",
       "      <td>16.0</td>\n",
       "      <td>Päijät-Häme</td>\n",
       "    </tr>\n",
       "  </tbody>\n",
       "</table>\n",
       "</div>"
      ],
      "text/plain": [
       "   code healthCareDistrict\n",
       "1  20.0          Pirkanmaa\n",
       "2   5.0    Etelä-Pohjanmaa\n",
       "3   9.0  Pohjois-Pohjanmaa\n",
       "4  10.0    Etelä-Pohjanmaa\n",
       "5  16.0        Päijät-Häme"
      ]
     },
     "execution_count": 13,
     "metadata": {},
     "output_type": "execute_result"
    }
   ],
   "source": [
    "data.head()"
   ]
  },
  {
   "cell_type": "markdown",
   "id": "e669509f-6a0b-4518-a72b-2b9e45e9ec5a",
   "metadata": {},
   "source": [
    "## 3- Combine the data of municipalities and the health care districts."
   ]
  },
  {
   "cell_type": "code",
   "execution_count": 14,
   "id": "bd52d0e9-cf1f-4fa9-9e79-b1ed21b0b296",
   "metadata": {},
   "outputs": [
    {
     "name": "stdout",
     "output_type": "stream",
     "text": [
      "code          object\n",
      "name          object\n",
      "geometry    geometry\n",
      "dtype: object\n"
     ]
    }
   ],
   "source": [
    "# Check data type\n",
    "print(geodata.dtypes)\n"
   ]
  },
  {
   "cell_type": "code",
   "execution_count": 15,
   "id": "ccdf0e56-05f3-45e0-a359-99ab38daee8e",
   "metadata": {},
   "outputs": [
    {
     "name": "stdout",
     "output_type": "stream",
     "text": [
      "code                  float64\n",
      "healthCareDistrict     object\n",
      "dtype: object\n"
     ]
    }
   ],
   "source": [
    "print(data.dtypes)\n"
   ]
  },
  {
   "cell_type": "code",
   "execution_count": 16,
   "id": "3d073e37-e1fd-4a69-ab60-7198d2fef02b",
   "metadata": {},
   "outputs": [],
   "source": [
    "# The code column is currently a floating point number. We need to modify these codes so that they match the ones in the spatial data:\n",
    "\n",
    "# Convert to character string\n",
    "data[\"code\"] = data[\"code\"].astype(int).astype(\"str\")\n",
    "\n"
   ]
  },
  {
   "cell_type": "code",
   "execution_count": 17,
   "id": "9e8447db-cb7e-4124-b4fe-3a2b6888c0f1",
   "metadata": {},
   "outputs": [],
   "source": [
    "# Add missing zeros to municipality codes\n",
    "data[\"code\"] = data[\"code\"].str.zfill(3)\n"
   ]
  },
  {
   "cell_type": "code",
   "execution_count": 18,
   "id": "d0686539-86dd-43fe-8513-33a6583e43e5",
   "metadata": {},
   "outputs": [
    {
     "name": "stdout",
     "output_type": "stream",
     "text": [
      "(294, 2)\n",
      "(309, 3)\n"
     ]
    }
   ],
   "source": [
    "#  The 16 municipalities of Åland Region are missing from the the health care districts file.\n",
    "#  The municipality of (Åland) is missing from the municipalities file.\n",
    "\n",
    "print(data.shape)\n",
    "print(geodata.shape)"
   ]
  },
  {
   "cell_type": "code",
   "execution_count": 19,
   "id": "679d38a9-1ea7-4a67-a02c-070287b51e74",
   "metadata": {},
   "outputs": [],
   "source": [
    "# Merge health district info to geodata using \"code\" as the common key and \"how\" to keep all the municipalties\n",
    "\n",
    "geodata = geodata.merge(data, on=\"code\", how= \"left\")"
   ]
  },
  {
   "cell_type": "code",
   "execution_count": 20,
   "id": "98cf714e-12f1-4ec0-a4e9-e3c8985cad36",
   "metadata": {},
   "outputs": [
    {
     "data": {
      "text/html": [
       "<div>\n",
       "<style scoped>\n",
       "    .dataframe tbody tr th:only-of-type {\n",
       "        vertical-align: middle;\n",
       "    }\n",
       "\n",
       "    .dataframe tbody tr th {\n",
       "        vertical-align: top;\n",
       "    }\n",
       "\n",
       "    .dataframe thead th {\n",
       "        text-align: right;\n",
       "    }\n",
       "</style>\n",
       "<table border=\"1\" class=\"dataframe\">\n",
       "  <thead>\n",
       "    <tr style=\"text-align: right;\">\n",
       "      <th></th>\n",
       "      <th>code</th>\n",
       "      <th>name</th>\n",
       "      <th>geometry</th>\n",
       "      <th>healthCareDistrict</th>\n",
       "    </tr>\n",
       "  </thead>\n",
       "  <tbody>\n",
       "    <tr>\n",
       "      <th>0</th>\n",
       "      <td>005</td>\n",
       "      <td>Alajärvi</td>\n",
       "      <td>POLYGON ((366787.924 7001300.583, 364487.590 6...</td>\n",
       "      <td>Etelä-Pohjanmaa</td>\n",
       "    </tr>\n",
       "    <tr>\n",
       "      <th>1</th>\n",
       "      <td>009</td>\n",
       "      <td>Alavieska</td>\n",
       "      <td>POLYGON ((382543.364 7120022.976, 382899.505 7...</td>\n",
       "      <td>Pohjois-Pohjanmaa</td>\n",
       "    </tr>\n",
       "    <tr>\n",
       "      <th>2</th>\n",
       "      <td>010</td>\n",
       "      <td>Alavus</td>\n",
       "      <td>POLYGON ((343298.204 6961570.195, 343831.847 6...</td>\n",
       "      <td>Etelä-Pohjanmaa</td>\n",
       "    </tr>\n",
       "    <tr>\n",
       "      <th>3</th>\n",
       "      <td>016</td>\n",
       "      <td>Asikkala</td>\n",
       "      <td>POLYGON ((436139.680 6798279.085, 435714.468 6...</td>\n",
       "      <td>Päijät-Häme</td>\n",
       "    </tr>\n",
       "    <tr>\n",
       "      <th>4</th>\n",
       "      <td>018</td>\n",
       "      <td>Askola</td>\n",
       "      <td>POLYGON ((426631.036 6720528.076, 428821.749 6...</td>\n",
       "      <td>HUS</td>\n",
       "    </tr>\n",
       "  </tbody>\n",
       "</table>\n",
       "</div>"
      ],
      "text/plain": [
       "  code       name                                           geometry  \\\n",
       "0  005   Alajärvi  POLYGON ((366787.924 7001300.583, 364487.590 6...   \n",
       "1  009  Alavieska  POLYGON ((382543.364 7120022.976, 382899.505 7...   \n",
       "2  010     Alavus  POLYGON ((343298.204 6961570.195, 343831.847 6...   \n",
       "3  016   Asikkala  POLYGON ((436139.680 6798279.085, 435714.468 6...   \n",
       "4  018     Askola  POLYGON ((426631.036 6720528.076, 428821.749 6...   \n",
       "\n",
       "  healthCareDistrict  \n",
       "0    Etelä-Pohjanmaa  \n",
       "1  Pohjois-Pohjanmaa  \n",
       "2    Etelä-Pohjanmaa  \n",
       "3        Päijät-Häme  \n",
       "4                HUS  "
      ]
     },
     "execution_count": 20,
     "metadata": {},
     "output_type": "execute_result"
    }
   ],
   "source": [
    "geodata.head()"
   ]
  },
  {
   "cell_type": "code",
   "execution_count": 21,
   "id": "025e4e50-8587-4489-99e2-3a9481f08bf3",
   "metadata": {},
   "outputs": [
    {
     "data": {
      "text/plain": [
       "7          Brändö\n",
       "8          Eckerö\n",
       "15       Finström\n",
       "17          Föglö\n",
       "18           Geta\n",
       "24     Hammarland\n",
       "57         Jomala\n",
       "111      Kumlinge\n",
       "121         Kökar\n",
       "134       Lemland\n",
       "147    Lumparland\n",
       "153     Mariehamn\n",
       "236       Saltvik\n",
       "254      Sottunga\n",
       "256          Sund\n",
       "301         Vårdö\n",
       "Name: name, dtype: object"
      ]
     },
     "execution_count": 21,
     "metadata": {},
     "output_type": "execute_result"
    }
   ],
   "source": [
    "# List all municipalities that lack health district info:\n",
    "geodata[geodata[\"healthCareDistrict\"].isnull()].name"
   ]
  },
  {
   "cell_type": "code",
   "execution_count": 22,
   "id": "31a472d9-b610-4a68-843e-a3193db1f34c",
   "metadata": {},
   "outputs": [],
   "source": [
    "# Update \"Ahvenanmaa\" as the health care district for Åland municipalities (16 municipalities in total)\n",
    "\n",
    "# The format of \"loc\" comand is loc[\"what rows do I want\"  , \"what columns do i want\" ]\n",
    "\n",
    "geodata.loc[geodata[\"healthCareDistrict\"].isnull(), \"healthCareDistrict\"] = \"Ahvenanmaa\""
   ]
  },
  {
   "cell_type": "code",
   "execution_count": 23,
   "id": "042ce144-2c19-4c23-9eaf-69db58986161",
   "metadata": {},
   "outputs": [
    {
     "data": {
      "text/plain": [
       "Pohjois-Pohjanmaa    29\n",
       "Varsinais-Suomi      28\n",
       "HUS                  24\n",
       "Pirkanmaa            23\n",
       "Keski-Suomi          21\n",
       "Etelä-Pohjanmaa      18\n",
       "Pohjois-Savo         18\n",
       "Ahvenanmaa           16\n",
       "Satakunta            16\n",
       "Lappi                15\n",
       "Vaasa                13\n",
       "Pohjois-Karjala      13\n",
       "Päijät-Häme          12\n",
       "Kanta-Häme           11\n",
       "Keski-Pohjanmaa      10\n",
       "Etelä-Savo            9\n",
       "Etelä-Karjala         9\n",
       "Kainuu                8\n",
       "Kymenlaakso           6\n",
       "Länsi-Pohja           6\n",
       "Itä-Savo              4\n",
       "Name: healthCareDistrict, dtype: int64"
      ]
     },
     "execution_count": 23,
     "metadata": {},
     "output_type": "execute_result"
    }
   ],
   "source": [
    "# Check the count of municipalities per health care disctrict\n",
    "geodata[\"healthCareDistrict\"].value_counts()"
   ]
  },
  {
   "cell_type": "code",
   "execution_count": 24,
   "id": "eff90fec-44f6-486a-9884-c8da4c08fcf3",
   "metadata": {},
   "outputs": [],
   "source": [
    "# Dissolve (=combine) municipality polygon geometries for each health care district\n",
    "districts = geodata.dissolve(by='healthCareDistrict')"
   ]
  },
  {
   "cell_type": "code",
   "execution_count": 25,
   "id": "82cf7a46-2c10-44e4-951f-49ff6f274ac6",
   "metadata": {},
   "outputs": [
    {
     "data": {
      "text/html": [
       "<div>\n",
       "<style scoped>\n",
       "    .dataframe tbody tr th:only-of-type {\n",
       "        vertical-align: middle;\n",
       "    }\n",
       "\n",
       "    .dataframe tbody tr th {\n",
       "        vertical-align: top;\n",
       "    }\n",
       "\n",
       "    .dataframe thead th {\n",
       "        text-align: right;\n",
       "    }\n",
       "</style>\n",
       "<table border=\"1\" class=\"dataframe\">\n",
       "  <thead>\n",
       "    <tr style=\"text-align: right;\">\n",
       "      <th></th>\n",
       "      <th>geometry</th>\n",
       "      <th>code</th>\n",
       "      <th>name</th>\n",
       "    </tr>\n",
       "    <tr>\n",
       "      <th>healthCareDistrict</th>\n",
       "      <th></th>\n",
       "      <th></th>\n",
       "      <th></th>\n",
       "    </tr>\n",
       "  </thead>\n",
       "  <tbody>\n",
       "    <tr>\n",
       "      <th>Ahvenanmaa</th>\n",
       "      <td>MULTIPOLYGON (((160681.339 6644663.142, 160710...</td>\n",
       "      <td>035</td>\n",
       "      <td>Brändö</td>\n",
       "    </tr>\n",
       "    <tr>\n",
       "      <th>Etelä-Karjala</th>\n",
       "      <td>POLYGON ((592557.900 6768951.300, 592411.200 6...</td>\n",
       "      <td>153</td>\n",
       "      <td>Imatra</td>\n",
       "    </tr>\n",
       "    <tr>\n",
       "      <th>Etelä-Pohjanmaa</th>\n",
       "      <td>POLYGON ((222946.328 6887833.806, 220077.099 6...</td>\n",
       "      <td>005</td>\n",
       "      <td>Alajärvi</td>\n",
       "    </tr>\n",
       "    <tr>\n",
       "      <th>Etelä-Savo</th>\n",
       "      <td>POLYGON ((520632.817 6786551.176, 520842.240 6...</td>\n",
       "      <td>097</td>\n",
       "      <td>Hirvensalmi</td>\n",
       "    </tr>\n",
       "    <tr>\n",
       "      <th>HUS</th>\n",
       "      <td>MULTIPOLYGON (((272126.112 6633609.689, 272356...</td>\n",
       "      <td>018</td>\n",
       "      <td>Askola</td>\n",
       "    </tr>\n",
       "  </tbody>\n",
       "</table>\n",
       "</div>"
      ],
      "text/plain": [
       "                                                             geometry code  \\\n",
       "healthCareDistrict                                                           \n",
       "Ahvenanmaa          MULTIPOLYGON (((160681.339 6644663.142, 160710...  035   \n",
       "Etelä-Karjala       POLYGON ((592557.900 6768951.300, 592411.200 6...  153   \n",
       "Etelä-Pohjanmaa     POLYGON ((222946.328 6887833.806, 220077.099 6...  005   \n",
       "Etelä-Savo          POLYGON ((520632.817 6786551.176, 520842.240 6...  097   \n",
       "HUS                 MULTIPOLYGON (((272126.112 6633609.689, 272356...  018   \n",
       "\n",
       "                           name  \n",
       "healthCareDistrict               \n",
       "Ahvenanmaa               Brändö  \n",
       "Etelä-Karjala            Imatra  \n",
       "Etelä-Pohjanmaa        Alajärvi  \n",
       "Etelä-Savo          Hirvensalmi  \n",
       "HUS                      Askola  "
      ]
     },
     "execution_count": 25,
     "metadata": {},
     "output_type": "execute_result"
    }
   ],
   "source": [
    "districts.head()"
   ]
  },
  {
   "cell_type": "code",
   "execution_count": 26,
   "id": "eef5f270-b800-4afa-9724-3c0776606809",
   "metadata": {},
   "outputs": [],
   "source": [
    "# reset the index\n",
    "districts.reset_index(inplace=True)\n",
    "\n",
    "# Select useful columns\n",
    "districts = districts[[\"healthCareDistrict\", \"geometry\"]]"
   ]
  },
  {
   "cell_type": "code",
   "execution_count": 27,
   "id": "d2eaf86a-c48c-485e-ac67-bcf0061ff15f",
   "metadata": {},
   "outputs": [
    {
     "data": {
      "text/html": [
       "<div>\n",
       "<style scoped>\n",
       "    .dataframe tbody tr th:only-of-type {\n",
       "        vertical-align: middle;\n",
       "    }\n",
       "\n",
       "    .dataframe tbody tr th {\n",
       "        vertical-align: top;\n",
       "    }\n",
       "\n",
       "    .dataframe thead th {\n",
       "        text-align: right;\n",
       "    }\n",
       "</style>\n",
       "<table border=\"1\" class=\"dataframe\">\n",
       "  <thead>\n",
       "    <tr style=\"text-align: right;\">\n",
       "      <th></th>\n",
       "      <th>healthCareDistrict</th>\n",
       "      <th>geometry</th>\n",
       "    </tr>\n",
       "  </thead>\n",
       "  <tbody>\n",
       "    <tr>\n",
       "      <th>0</th>\n",
       "      <td>Ahvenanmaa</td>\n",
       "      <td>MULTIPOLYGON (((160681.339 6644663.142, 160710...</td>\n",
       "    </tr>\n",
       "    <tr>\n",
       "      <th>1</th>\n",
       "      <td>Etelä-Karjala</td>\n",
       "      <td>POLYGON ((592557.900 6768951.300, 592411.200 6...</td>\n",
       "    </tr>\n",
       "    <tr>\n",
       "      <th>2</th>\n",
       "      <td>Etelä-Pohjanmaa</td>\n",
       "      <td>POLYGON ((222946.328 6887833.806, 220077.099 6...</td>\n",
       "    </tr>\n",
       "    <tr>\n",
       "      <th>3</th>\n",
       "      <td>Etelä-Savo</td>\n",
       "      <td>POLYGON ((520632.817 6786551.176, 520842.240 6...</td>\n",
       "    </tr>\n",
       "    <tr>\n",
       "      <th>4</th>\n",
       "      <td>HUS</td>\n",
       "      <td>MULTIPOLYGON (((272126.112 6633609.689, 272356...</td>\n",
       "    </tr>\n",
       "  </tbody>\n",
       "</table>\n",
       "</div>"
      ],
      "text/plain": [
       "  healthCareDistrict                                           geometry\n",
       "0         Ahvenanmaa  MULTIPOLYGON (((160681.339 6644663.142, 160710...\n",
       "1      Etelä-Karjala  POLYGON ((592557.900 6768951.300, 592411.200 6...\n",
       "2    Etelä-Pohjanmaa  POLYGON ((222946.328 6887833.806, 220077.099 6...\n",
       "3         Etelä-Savo  POLYGON ((520632.817 6786551.176, 520842.240 6...\n",
       "4                HUS  MULTIPOLYGON (((272126.112 6633609.689, 272356..."
      ]
     },
     "execution_count": 27,
     "metadata": {},
     "output_type": "execute_result"
    }
   ],
   "source": [
    "districts.head()"
   ]
  },
  {
   "cell_type": "code",
   "execution_count": 28,
   "id": "d41cb615-1ccd-4606-a15b-90ac95544b31",
   "metadata": {},
   "outputs": [
    {
     "data": {
      "text/plain": [
       "(21, 2)"
      ]
     },
     "execution_count": 28,
     "metadata": {},
     "output_type": "execute_result"
    }
   ],
   "source": [
    "districts.shape"
   ]
  },
  {
   "cell_type": "markdown",
   "id": "22d79c3d-b973-4fc5-a7ac-6c9a37a0b014",
   "metadata": {},
   "source": [
    "## 4- Plot the data"
   ]
  },
  {
   "cell_type": "code",
   "execution_count": 29,
   "id": "dca6baf3-f52e-46dc-b76d-4fe3fc837403",
   "metadata": {},
   "outputs": [
    {
     "data": {
      "image/png": "[encoded data removed]",
      "text/plain": [
       "<Figure size 864x1080 with 1 Axes>"
      ]
     },
     "metadata": {
      "needs_background": "light"
     },
     "output_type": "display_data"
    }
   ],
   "source": [
    "fig, ax = plt.subplots(figsize= (12, 15))\n",
    "districts.plot(ax=ax, column=\"healthCareDistrict\", cmap='tab20' , legend= True,\n",
    "             legend_kwds={'loc': 'center left',\n",
    "                         'bbox_to_anchor':(0,0.6)})\n",
    "ax.set(title= \"\\n The Finnish hospital districts\")\n",
    "ax.axis('off')\n",
    "#plt.savefig(\"static_maps/finnish_hospital_districts.png\", dpi= 300, facecolor= \"white\" )\n",
    "plt.show()"
   ]
  },
  {
   "cell_type": "code",
   "execution_count": 30,
   "id": "6db1d04e-b882-4acd-a652-32c21a2f7eaf",
   "metadata": {},
   "outputs": [
    {
     "data": {
      "text/plain": [
       "<Derived Projected CRS: EPSG:3067>\n",
       "Name: ETRS89 / TM35FIN(E,N)\n",
       "Axis Info [cartesian]:\n",
       "- E[east]: Easting (metre)\n",
       "- N[north]: Northing (metre)\n",
       "Area of Use:\n",
       "- name: Finland - onshore and offshore.\n",
       "- bounds: (19.08, 58.84, 31.59, 70.09)\n",
       "Coordinate Operation:\n",
       "- name: TM35FIN\n",
       "- method: Transverse Mercator\n",
       "Datum: European Terrestrial Reference System 1989 ensemble\n",
       "- Ellipsoid: GRS 1980\n",
       "- Prime Meridian: Greenwich"
      ]
     },
     "execution_count": 30,
     "metadata": {},
     "output_type": "execute_result"
    }
   ],
   "source": [
    "districts.crs"
   ]
  },
  {
   "cell_type": "code",
   "execution_count": 31,
   "id": "3ea2b507-1276-4365-8870-451ce2d768fc",
   "metadata": {},
   "outputs": [
    {
     "name": "stderr",
     "output_type": "stream",
     "text": [
      "C:\\Users\\dahla\\miniconda3\\envs\\autogis2021\\lib\\site-packages\\geopandas\\io\\file.py:362: FutureWarning: pandas.Int64Index is deprecated and will be removed from pandas in a future version. Use pandas.Index with the appropriate dtype instead.\n",
      "  pd.Int64Index,\n"
     ]
    }
   ],
   "source": [
    "# Write GeoJSON in original projection\n",
    "districts.to_file(f\"data/healthDistrictsEPSG3067.geojson\", driver='GeoJSON', encoding='utf-8')"
   ]
  },
  {
   "cell_type": "code",
   "execution_count": 32,
   "id": "69ffc973-886a-47ff-87ba-2eee94f7e911",
   "metadata": {},
   "outputs": [
    {
     "name": "stderr",
     "output_type": "stream",
     "text": [
      "C:\\Users\\dahla\\miniconda3\\envs\\autogis2021\\lib\\site-packages\\geopandas\\io\\file.py:362: FutureWarning: pandas.Int64Index is deprecated and will be removed from pandas in a future version. Use pandas.Index with the appropriate dtype instead.\n",
      "  pd.Int64Index,\n"
     ]
    }
   ],
   "source": [
    "# Re-project to WGS84 and save again\n",
    "\n",
    "districts.to_crs(epsg=4326).to_file(\"data/healthDistrictsEPSG4326.geojson\", driver='GeoJSON', encoding='utf-8')"
   ]
  },
  {
   "cell_type": "markdown",
   "id": "81925c8e-e4c8-4222-94e2-0f23800374ed",
   "metadata": {},
   "source": [
    "## 4- Create an interactive map"
   ]
  },
  {
   "cell_type": "code",
   "execution_count": 33,
   "id": "8144cb9a-0a93-46be-a8a7-a4d9c53778de",
   "metadata": {},
   "outputs": [],
   "source": [
    "import leafmap.kepler as leafmap"
   ]
  },
  {
   "cell_type": "code",
   "execution_count": 34,
   "id": "3a7872ff-4453-4880-80c7-ccec46fd307e",
   "metadata": {},
   "outputs": [],
   "source": [
    "m = leafmap.Map(center=[65.32, 24.8], zoom=4)"
   ]
  },
  {
   "cell_type": "code",
   "execution_count": 35,
   "id": "e45baef3-59b1-45bf-895d-32bbc0cd6d4b",
   "metadata": {},
   "outputs": [],
   "source": [
    "\n",
    "fp = r\"data/healthDistrictsEPSG4326.geojson\" \n",
    "\n",
    "m.add_geojson(fp, layer_name=\"The Finnish hospital districts\")\n",
    "             \n",
    " "
   ]
  },
  {
   "cell_type": "code",
   "execution_count": 36,
   "id": "015427d0-c80e-48de-9041-64d34c0bd340",
   "metadata": {},
   "outputs": [
    {
     "data": {
      "application/vnd.jupyter.widget-view+json": {
       "model_id": "32eb0ea3ba7a419b9922671355f5c1bb",
       "version_major": 2,
       "version_minor": 0
      },
      "text/plain": [
       "Map(config={'version': 'v1', 'config': {'mapState': {'latitude': 65.32, 'longitude': 24.8, 'zoom': 4, 'bearing…"
      ]
     },
     "metadata": {},
     "output_type": "display_data"
    }
   ],
   "source": [
    "m"
   ]
  },
  {
   "cell_type": "code",
   "execution_count": 37,
   "id": "3bacdbd4-02ac-4c5c-9880-3d00538fbe20",
   "metadata": {},
   "outputs": [],
   "source": [
    "m.to_html(\"interactive_maps/Finnish_hospital_districts.html\")"
   ]
  },
  {
   "cell_type": "code",
   "execution_count": null,
   "id": "201c612d-4eec-4867-87e2-e4581e1fcd61",
   "metadata": {},
   "outputs": [],
   "source": []
  }
 ],
 "metadata": {
  "kernelspec": {
   "display_name": "Python 3 (ipykernel)",
   "language": "python",
   "name": "python3"
  },
  "language_info": {
   "codemirror_mode": {
    "name": "ipython",
    "version": 3
   },
   "file_extension": ".py",
   "mimetype": "text/x-python",
   "name": "python",
   "nbconvert_exporter": "python",
   "pygments_lexer": "ipython3",
   "version": "3.8.12"
  }
 },
 "nbformat": 4,
 "nbformat_minor": 5
}
