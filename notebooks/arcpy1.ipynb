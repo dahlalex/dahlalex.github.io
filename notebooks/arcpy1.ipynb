{
 "cells": [
  {
   "cell_type": "markdown",
   "metadata": {},
   "source": [
    "## ArcPy 1\n",
    "\n",
    "### Source: [Python Scripting for Geoprocessing Workflows](https://www.esri.com/training/catalog/5763042c851d31e02a43ed84/python-scripting-for-geoprocessing-workflows/#!/catalog/57630434851d31e02a43ef5a/working-with-coordinate-systems-in-arcgis/)\n",
    "\n",
    "### Data: []()\n",
    "\n",
    "### The goal is to creating a Python script to automate ArcGIS geoprocessing tasks. \n",
    "\n",
    "The task is to create treatment areas for invasive plant species within the National Parks of Stora Sjöfallet, Sarek and Padjelanta in the municipalities of Gällevare and Jokkmokk in Sweden. Part of this process will be to define areas in which chemical and non-chemical treatments may be used."
   ]
  },
  {
   "cell_type": "markdown",
   "metadata": {},
   "source": [
    "### 1- Buffer Roads"
   ]
  },
  {
   "cell_type": "code",
   "execution_count": null,
   "metadata": {},
   "outputs": [],
   "source": [
    "# open PyCharm and set the geoprocessing environments.\n",
    "\n",
    "import arcpy\n",
    "\n",
    "arcpy.env.workspace = r\"C:\\arcpy1\\arcpy1\\arcpy1.gdb\"\n",
    "\n",
    "arcpy.env.overwriteOutput = True"
   ]
  },
  {
   "cell_type": "code",
   "execution_count": null,
   "metadata": {},
   "outputs": [],
   "source": [
    "# join the BufferDistance table to the Roads feature class. \n",
    "\n",
    "arcpy.JoinField_management(in_data=\"Roads\", in_field=\"KATEGORI\", join_table= \"BufferDistance\", join_field=\"KATEGORI\")"
   ]
  },
  {
   "cell_type": "code",
   "execution_count": null,
   "metadata": {},
   "outputs": [],
   "source": [
    "# buffer the roads using the joined DISTANCE attribute\n",
    "\n",
    "arcpy.Buffer_analysis(in_features=\"Roads\", out_feature_class=\"RoadBuffers\",\n",
    "                      buffer_distance_or_field=\"DISTANCE\", dissolve_option=\"ALL\")"
   ]
  },
  {
   "cell_type": "code",
   "execution_count": null,
   "metadata": {},
   "outputs": [],
   "source": [
    "# run your script"
   ]
  },
  {
   "cell_type": "markdown",
   "metadata": {},
   "source": [
    "![](img/arcpy1.1.png)"
   ]
  },
  {
   "cell_type": "markdown",
   "metadata": {},
   "source": [
    "![](img/arcpy1.2.png)"
   ]
  },
  {
   "cell_type": "markdown",
   "metadata": {},
   "source": [
    "### 2- NonChemical areas"
   ]
  },
  {
   "cell_type": "code",
   "execution_count": null,
   "metadata": {},
   "outputs": [],
   "source": [
    "#  create a list of feature classes in the arcpy1 geodatabase.\n",
    "fcList = arcpy.ListFeatureClasses()"
   ]
  },
  {
   "cell_type": "code",
   "execution_count": null,
   "metadata": {},
   "outputs": [],
   "source": [
    "# create a loop\n",
    "# create the buffer polygons around the Lakes and Streams.\n",
    "bufferList = []\n",
    "\n",
    "for fc in fcList:\n",
    "    if fc == \"Lakes\" or fc == \"Streams\":\n",
    "        arcpy.Buffer_analysis(in_features=fc, out_feature_class=fc + \"Buffers\",\n",
    "                              buffer_distance_or_field=\"1000 meters\", dissolve_option=\"ALL\")\n",
    "        bufferList.append(fc + \"Buffers\")\n",
    "        \n",
    "\n",
    "# union these polygons into a new WaterBuffers feature class. \n",
    "arcpy.Union_analysis(in_features=bufferList, out_feature_class=\"WaterBuffers\")\n",
    "           "
   ]
  },
  {
   "cell_type": "code",
   "execution_count": null,
   "metadata": {},
   "outputs": [],
   "source": [
    "# Create a new Python list of the two treatment area feature classes: RoadBuffers and WaterBuffers.\n",
    "treatmentList = [\"RoadBuffers\", \"WaterBuffers\"]\n",
    "\n",
    "# # Union treatment areas\n",
    "arcpy.Union_analysis(treatmentList, \"NonChemical\")"
   ]
  },
  {
   "cell_type": "code",
   "execution_count": null,
   "metadata": {},
   "outputs": [],
   "source": [
    "# run your script"
   ]
  },
  {
   "cell_type": "markdown",
   "metadata": {},
   "source": [
    "![](img/arcpy1.3.png)"
   ]
  },
  {
   "cell_type": "markdown",
   "metadata": {},
   "source": [
    "![](img/arcpy1.4.png)"
   ]
  },
  {
   "cell_type": "markdown",
   "metadata": {},
   "source": [
    "**Use the Python window to select treatment sites**\n"
   ]
  },
  {
   "cell_type": "markdown",
   "metadata": {},
   "source": [
    "![](img/arcpy1.5.png)"
   ]
  },
  {
   "cell_type": "markdown",
   "metadata": {},
   "source": [
    "**Update the TREATMENT attribute in the Invasive Plants layer for those sites that you have selected using the UpdateCursor** "
   ]
  },
  {
   "cell_type": "markdown",
   "metadata": {},
   "source": [
    "![](img/arcpy1.6.png)"
   ]
  },
  {
   "cell_type": "markdown",
   "metadata": {},
   "source": [
    "### 3- Create and run a script tool"
   ]
  },
  {
   "cell_type": "markdown",
   "metadata": {},
   "source": [
    "Make your script dynamic\n",
    "\n",
    "remove the hard-coded values and replace it with **arcpy.GetParameterAsText()**\n"
   ]
  },
  {
   "cell_type": "markdown",
   "metadata": {},
   "source": [
    "![](img/arcpy1.7.png)"
   ]
  },
  {
   "cell_type": "markdown",
   "metadata": {},
   "source": [
    "Create a new toolbox\n"
   ]
  },
  {
   "cell_type": "markdown",
   "metadata": {},
   "source": [
    "![](img/arcpy1.8.png)"
   ]
  },
  {
   "cell_type": "markdown",
   "metadata": {},
   "source": [
    "Add a script tool to your toolbox"
   ]
  },
  {
   "cell_type": "markdown",
   "metadata": {},
   "source": [
    "![](img/arcpy1.9.png)"
   ]
  },
  {
   "cell_type": "markdown",
   "metadata": {},
   "source": [
    "![](img/arcpy1.10.png)"
   ]
  },
  {
   "cell_type": "markdown",
   "metadata": {},
   "source": [
    "![](img/arcpy1.11.png)"
   ]
  },
  {
   "cell_type": "markdown",
   "metadata": {},
   "source": [
    "![](img/arcpy1.12.png)"
   ]
  },
  {
   "cell_type": "code",
   "execution_count": null,
   "metadata": {},
   "outputs": [],
   "source": []
  }
 ],
 "metadata": {
  "kernelspec": {
   "display_name": "ArcGISPro",
   "language": "Python",
   "name": "python3"
  },
  "language_info": {
   "file_extension": ".py",
   "name": "python",
   "version": "3"
  }
 },
 "nbformat": 4,
 "nbformat_minor": 2
}
